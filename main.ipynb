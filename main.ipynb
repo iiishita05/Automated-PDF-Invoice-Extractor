{
 "cells": [
  {
   "cell_type": "code",
   "execution_count": 188,
   "id": "c6ad6669",
   "metadata": {},
   "outputs": [],
   "source": [
    "import PyPDF2\n",
    "import re\n",
    "import os \n",
    "import csv"
   ]
  },
  {
   "cell_type": "code",
   "execution_count": 189,
   "id": "b7a80d72",
   "metadata": {},
   "outputs": [],
   "source": [
    "def extract_text_from_pdf(pdf_path):\n",
    "    text = []\n",
    "    with open(pdf_path, mode='rb') as file:\n",
    "        pdf_reader = PyPDF2.PdfReader(file)\n",
    "        for i in range(len(pdf_reader.pages)):\n",
    "            page = pdf_reader.pages[i]\n",
    "            text.append(page.extract_text())\n",
    "    return text"
   ]
  },
  {
   "cell_type": "code",
   "execution_count": 190,
   "id": "8f4f6726",
   "metadata": {},
   "outputs": [],
   "source": [
    "\n",
    "def extract_data(text):\n",
    "    data = {}\n",
    "\n",
    "    pattern = r'# \\d{5}'\n",
    "    for page_text in text:\n",
    "        match = re.search(pattern, page_text)\n",
    "        if match:\n",
    "            data['invoice_no'] = match.group()\n",
    "            break\n",
    "\n",
    "    pattern = r'\\D{3} \\d{2} \\d{4}'\n",
    "    for page_text in text:\n",
    "        match = re.search(pattern, page_text)\n",
    "        if match:\n",
    "            data['date'] = match.group()\n",
    "            break\n",
    "\n",
    "    pattern = r'Bill To\\s*:\\s*([^\\n]+)'\n",
    "    for page_text in text:\n",
    "        match = re.search(pattern, page_text)\n",
    "        if match:\n",
    "            data['bill_to'] = match.group(1).strip()\n",
    "            break\n",
    "\n",
    "    pattern = r'\\D\\D-\\d{4}-\\w*-\\d*'\n",
    "    for page_text in text:\n",
    "        match = re.search(pattern, page_text)\n",
    "        if match:\n",
    "            data['order_id'] = match.group()\n",
    "            break\n",
    "\n",
    "    pattern = r'\\$[\\d,]+\\.\\d*'\n",
    "    for page_text in text:\n",
    "        match = re.search(pattern, page_text)\n",
    "        if match:\n",
    "            data['balance_due'] = match.group()\n",
    "            break\n",
    "\n",
    "    return data\n"
   ]
  },
  {
   "cell_type": "code",
   "execution_count": 191,
   "id": "efc99eeb",
   "metadata": {},
   "outputs": [],
   "source": [
    "def process_invoices(folder_path, output_csv):\n",
    "    data_list = []\n",
    "    for filename in os.listdir(folder_path):\n",
    "        if filename.endswith(\".pdf\"):\n",
    "            pdf_path = os.path.join(folder_path, filename)\n",
    "            text = extract_text_from_pdf(pdf_path)\n",
    "            data = extract_data(text)\n",
    "            data_list.append(data)\n",
    "\n",
    "    headers = ['invoice_no', 'date', 'bill_to', 'order_id', 'balance_due']\n",
    "    with open(output_csv, 'w', newline='') as csvfile:\n",
    "        writer = csv.DictWriter(csvfile, fieldnames=headers)\n",
    "        writer.writeheader()\n",
    "        for row in data_list:\n",
    "            writer.writerow(row)\n",
    "\n",
    "\n",
    "folder_path = r'C:\\Users\\KIIT\\Desktop\\invoice_extracter\\sample_invoices'\n",
    "output_csv = 'extracted_invoices_data.csv'\n",
    "process_invoices(folder_path, output_csv)"
   ]
  },
  {
   "cell_type": "code",
   "execution_count": null,
   "id": "18bb35cc",
   "metadata": {},
   "outputs": [],
   "source": []
  }
 ],
 "metadata": {
  "kernelspec": {
   "display_name": "Python 3 (ipykernel)",
   "language": "python",
   "name": "python3"
  },
  "language_info": {
   "codemirror_mode": {
    "name": "ipython",
    "version": 3
   },
   "file_extension": ".py",
   "mimetype": "text/x-python",
   "name": "python",
   "nbconvert_exporter": "python",
   "pygments_lexer": "ipython3",
   "version": "3.11.5"
  }
 },
 "nbformat": 4,
 "nbformat_minor": 5
}
